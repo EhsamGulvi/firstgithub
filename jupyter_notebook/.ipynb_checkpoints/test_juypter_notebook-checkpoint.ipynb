{
 "cells": [
  {
   "cell_type": "markdown",
   "id": "b174a87b",
   "metadata": {},
   "source": [
    "# Python ka chila\n",
    "## How to use jupyter notebook\n",
    "## Basics of python\n",
    "### 1- My first program"
   ]
  },
  {
   "cell_type": "code",
   "execution_count": 1,
   "id": "9c52e3e0",
   "metadata": {
    "scrolled": true
   },
   "outputs": [
    {
     "name": "stdout",
     "output_type": "stream",
     "text": [
      "5\n",
      "Hello World\n",
      "We are learing python with Aammar\n"
     ]
    }
   ],
   "source": [
    "#my first program in python\n",
    "print(2+3)\n",
    "print(\"Hello World\")\n",
    "print(\"We are learing python with Aammar\")"
   ]
  },
  {
   "cell_type": "markdown",
   "id": "27ced61b",
   "metadata": {},
   "source": [
    "### **02- Operators**"
   ]
  },
  {
   "cell_type": "code",
   "execution_count": 2,
   "id": "08945ae4",
   "metadata": {
    "scrolled": true
   },
   "outputs": [
    {
     "name": "stdout",
     "output_type": "stream",
     "text": [
      "5\n",
      "3.0\n",
      "1\n",
      "3\n",
      "4.0\n"
     ]
    }
   ],
   "source": [
    "print(2+3)\n",
    "print(6/2)\n",
    "print(13%2)\n",
    "print(6//2)\n",
    "print((2**2)/2*3/3+6-4)"
   ]
  },
  {
   "cell_type": "markdown",
   "id": "7238305f",
   "metadata": {},
   "source": [
    "*PEMDAS*\n",
    "*Paranthesis Exponents Multiply Divide Addition Subtraction*\n",
    "*left to right sequence for M D & A S*"
   ]
  },
  {
   "cell_type": "markdown",
   "id": "eac88b2b",
   "metadata": {},
   "source": [
    "### **03- Strings**"
   ]
  },
  {
   "cell_type": "code",
   "execution_count": 3,
   "id": "b426d785",
   "metadata": {},
   "outputs": [
    {
     "name": "stdout",
     "output_type": "stream",
     "text": [
      "Hello World\n",
      "We are learing python with Aammar\n",
      "Test for single quotes\n",
      "test for double quotes\n",
      " test for triple quoutes\n",
      "what's up\n"
     ]
    }
   ],
   "source": [
    "print(\"Hello World\")\n",
    "print(\"We are learing python with Aammar\")\n",
    "print('Test for single quotes')\n",
    "print(\"test for double quotes\")\n",
    "print(''' test for triple quoutes''')\n",
    "print(\"what's up\")"
   ]
  },
  {
   "cell_type": "markdown",
   "id": "84e54c51",
   "metadata": {},
   "source": [
    "### **04- Comments**\n",
    "the shortcut key to comment is press **cntrl + /**"
   ]
  },
  {
   "cell_type": "code",
   "execution_count": 4,
   "id": "21d69b7d",
   "metadata": {},
   "outputs": [
    {
     "name": "stdout",
     "output_type": "stream",
     "text": [
      "How are you\n",
      "We are learing python with aammar\n"
     ]
    }
   ],
   "source": [
    "# for comment out and comment in press cntrl + /\n",
    "\n",
    "print(\"How are you\") \n",
    "print(\"We are learing python with aammar\")"
   ]
  },
  {
   "cell_type": "markdown",
   "id": "bd414c01",
   "metadata": {},
   "source": [
    "### **05- Variables**"
   ]
  },
  {
   "cell_type": "code",
   "execution_count": 5,
   "id": "dab4706f",
   "metadata": {},
   "outputs": [
    {
     "name": "stdout",
     "output_type": "stream",
     "text": [
      "5\n",
      "we are learing python with aammar\n",
      "<class 'str'>\n"
     ]
    }
   ],
   "source": [
    "# variables: objects containing values\n",
    "x=5 #numeric or integer variable\n",
    "print(x)\n",
    "\n",
    "y=\"we are learing python with aammar\"\n",
    "print(y)\n",
    "\n",
    "x=x+10\n",
    "\n",
    "#types of variables\n",
    "type(x)\n",
    "print(type(y))\n",
    "\n",
    "#print_type_class\n",
    "\n",
    "#Rules to assign a variable\n",
    "#1- the variable should contain numbers, letters or underscore\n",
    "#2- do not start with numbers\n",
    "#3- spaces are not allowed\n",
    "#4- do not use keywords used in funtions (break, test, mean, median etc)\n",
    "#5- short and descriptive\n",
    "#6- case sensityvity(lowercase, uppercase), lowercase should be used\n"
   ]
  },
  {
   "cell_type": "markdown",
   "id": "3cc5fbac",
   "metadata": {},
   "source": [
    "### **06- Input Variables**"
   ]
  },
  {
   "cell_type": "code",
   "execution_count": null,
   "id": "2ce375af",
   "metadata": {},
   "outputs": [],
   "source": [
    "# fruit_basket=\"Mangoes\"\n",
    "# print(fruit_basket)\n",
    "\n",
    "# #input function\n",
    "# fruit_basket=input(\"which is your favorite fruit?\")\n",
    "# print(fruit_basket)\n",
    "\n",
    "#3rd stage input funtion\n",
    "name=input(\"what is your name? \")\n",
    "age= input(\"how old are you? \")\n",
    "greetings= \"Hello\"\n",
    "\n",
    "print(greetings, name, \", YOu are still young\")"
   ]
  },
  {
   "cell_type": "markdown",
   "id": "3a9a8bcd",
   "metadata": {},
   "source": [
    "### **07- Conditional Logics**"
   ]
  },
  {
   "cell_type": "code",
   "execution_count": null,
   "id": "9988e5ce",
   "metadata": {},
   "outputs": [],
   "source": [
    "#logical orperators are either \"true or false\" or \"yes or no\" or \"0 or 1\"\n",
    "#equal to                   ==\n",
    "#not equal to               !=\n",
    "#less than                  <\n",
    "#greater than               >\n",
    "#less than and equal to     <=\n",
    "#greater than and equal to  >=\n",
    "\n",
    "#is 4 equal to 4?\n",
    "print(4==4)\n",
    "print(4!=4)\n",
    "print(4>3)\n",
    "print(3>6)\n",
    "print(3<=5)\n",
    "print(5>=4)\n",
    "\n",
    "#application of logical operators\n",
    "hammad_age=4\n",
    "age_at_school=5\n",
    "print(hammad_age==age_at_school)\n",
    "\n",
    "#input function and logicals operator\n",
    "age_at_school=5\n",
    "hammad_age=input(\"HOw old is hammad\")\n",
    "print(type(hammad_age))\n",
    "print(hammad_age==age_at_school)"
   ]
  },
  {
   "cell_type": "markdown",
   "id": "d7096fbf",
   "metadata": {},
   "source": [
    "### **08- Type Conversion**"
   ]
  },
  {
   "cell_type": "code",
   "execution_count": null,
   "id": "b6c83a00",
   "metadata": {},
   "outputs": [],
   "source": [
    "x=10                #integer\n",
    "y=10.2              #float\n",
    "z=\"Hello\"           #string\n",
    "\n",
    "#implicit conversion\n",
    "x=x*y\n",
    "\n",
    "print(x, \"type of x is:\", type(x))\n",
    "\n",
    "\n",
    "#explicit conversion\n",
    "age=input(\"What is your age? \")\n",
    "#age=int(age)\n",
    "print(age, type(float(age)))\n"
   ]
  },
  {
   "cell_type": "markdown",
   "id": "19f957d6",
   "metadata": {},
   "source": [
    "### **09- if, else and elif**"
   ]
  },
  {
   "cell_type": "code",
   "execution_count": null,
   "id": "88553cd3",
   "metadata": {},
   "outputs": [],
   "source": [
    "hammad_age=1\n",
    "required_age_at_school=5\n",
    "#question: can hamad go to school\n",
    "\n",
    "if hammad_age==required_age_at_school:\n",
    "    print(\"Hamad can join the school\")\n",
    "elif hammad_age>required_age_at_school: \n",
    "    print(\"Hammad should join higher secondary school\")\n",
    "else:\n",
    "    print(\"hammad can not go to school\")\n"
   ]
  },
  {
   "cell_type": "markdown",
   "id": "8707c8c2",
   "metadata": {},
   "source": [
    "### **10- Functions**"
   ]
  },
  {
   "cell_type": "code",
   "execution_count": null,
   "id": "225bf910",
   "metadata": {},
   "outputs": [],
   "source": [
    "print(\"we are learning with aamar\")\n",
    "print(\"we are learning with aamar\")\n",
    "print(\"we are learning with aamar\")\n",
    "print(\"we are learning with aamar\")\n",
    "print(\"we are learning with aamar\")\n",
    "print(\"we are learning with aamar\")\n",
    "\n",
    "#definnig a function: first of all we are writing \"def\" to define a function\n",
    "#1\n",
    "\n",
    "def print_codanics():\n",
    "    print(\"we are learning with aamar\")\n",
    "    print(\"we are learning with aamar\")\n",
    "    print(\"we are learning with aamar\")\n",
    "\n",
    "print_codanics()\n",
    "\n",
    "#2\n",
    "def print_codanics():\n",
    "    text=\"we are learning with aamar in Codanics youtube channel\"\n",
    "    print(text)\n",
    "    print(text)\n",
    "    print(text)\n",
    "\n",
    "print_codanics()\n",
    "\n",
    "#3\n",
    "def print_codanics(text):\n",
    "    print(text)\n",
    "    print(text)\n",
    "    print(text)\n",
    "\n",
    "# print_codanics(\"we are learning python\")\n",
    "\n",
    "# #defining a function with if, elif, and else statements\n",
    "def school_calculator(age):\n",
    "    if age==5:\n",
    "        print(\"Hamad can join the school\")\n",
    "    elif age>5:\n",
    "        print(\"Hamad should go to higher school\")\n",
    "    else:\n",
    "        print(\"Hamad is still a baby\")\n",
    "school_calculator(2)\n",
    "\n",
    "#defining a function of future\n",
    "def future_age(age):\n",
    "    new_age=age+20\n",
    "    return new_age\n",
    "\n",
    "future_predicted_age=future_age(5)\n",
    "print(future_predicted_age)\n",
    "\n",
    "   "
   ]
  },
  {
   "cell_type": "markdown",
   "id": "56043b63",
   "metadata": {},
   "source": [
    "### **11- Loops**"
   ]
  },
  {
   "cell_type": "code",
   "execution_count": null,
   "id": "66bf2e0d",
   "metadata": {},
   "outputs": [],
   "source": [
    "# while and for loops\n",
    "# while loops\n",
    "\n",
    "x=0\n",
    "while(x<5):\n",
    "    print(x)\n",
    "#     x=x+1\n",
    "#for lopp\n",
    "for x in range(5,11):\n",
    "    print(x)\n",
    "\n",
    "#array\n",
    "days = [\"Mon\", \"Tue\", \"Wed\", \"Thu\", \"Fri\", \"Sat\", \"Sun\" ]\n",
    "\n",
    "for d in days:\n",
    "    if (d==\"Fri\"): break\n",
    "    if (d==\"Fri\"): continue\n",
    "    print(d)"
   ]
  },
  {
   "cell_type": "markdown",
   "id": "28d55d96",
   "metadata": {},
   "source": [
    "### **12- Import Libaries**"
   ]
  },
  {
   "cell_type": "code",
   "execution_count": null,
   "id": "963a4719",
   "metadata": {},
   "outputs": [],
   "source": [
    "#if you want to print the value of pi\n",
    "import math\n",
    "print(\"the value of pi is \", math.pi)\n",
    "\n",
    "import statistics\n",
    "\n",
    "x=[150,250,350, 450]\n",
    "print(statistics.mean(x))\n",
    "print(statistics.NormalDist(x))\n",
    "\n",
    "#IMportant libraries: numpy, pandas"
   ]
  },
  {
   "cell_type": "markdown",
   "id": "1d86ca92",
   "metadata": {},
   "source": [
    "### **13- Troubleshooting**"
   ]
  },
  {
   "cell_type": "code",
   "execution_count": null,
   "id": "7bfbd8dd",
   "metadata": {},
   "outputs": [],
   "source": [
    "print(\"we are learning python wiht aammar\")\n",
    "#Sytax error: the error in output is syntax error which referes to any comma\n",
    "\n",
    "# runtime error is a mathemitical error\n",
    " "
   ]
  },
  {
   "cell_type": "code",
   "execution_count": null,
   "id": "8424c689",
   "metadata": {},
   "outputs": [],
   "source": []
  }
 ],
 "metadata": {
  "kernelspec": {
   "display_name": "Python 3 (ipykernel)",
   "language": "python",
   "name": "python3"
  },
  "language_info": {
   "codemirror_mode": {
    "name": "ipython",
    "version": 3
   },
   "file_extension": ".py",
   "mimetype": "text/x-python",
   "name": "python",
   "nbconvert_exporter": "python",
   "pygments_lexer": "ipython3",
   "version": "3.9.7"
  }
 },
 "nbformat": 4,
 "nbformat_minor": 5
}
