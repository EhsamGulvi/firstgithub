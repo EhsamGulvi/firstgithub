{
 "cells": [
  {
   "cell_type": "code",
   "execution_count": 1,
   "id": "b31c6b3b",
   "metadata": {},
   "outputs": [
    {
     "data": {
      "text/plain": [
       "'samosa pakora'"
      ]
     },
     "execution_count": 1,
     "metadata": {},
     "output_type": "execute_result"
    }
   ],
   "source": [
    "#make a string\n",
    "a = \"samosa pakora\"\n",
    "a"
   ]
  },
  {
   "cell_type": "code",
   "execution_count": 3,
   "id": "b0d3ccc0",
   "metadata": {},
   "outputs": [
    {
     "data": {
      "text/plain": [
       "'samosa pakora'"
      ]
     },
     "execution_count": 3,
     "metadata": {},
     "output_type": "execute_result"
    }
   ],
   "source": [
    "'samosa pakora'"
   ]
  },
  {
   "cell_type": "code",
   "execution_count": 4,
   "id": "7dda9ea0",
   "metadata": {},
   "outputs": [
    {
     "data": {
      "text/plain": [
       "'samosa pakora'"
      ]
     },
     "execution_count": 4,
     "metadata": {},
     "output_type": "execute_result"
    }
   ],
   "source": [
    "a"
   ]
  },
  {
   "cell_type": "code",
   "execution_count": 5,
   "id": "e625a65c",
   "metadata": {},
   "outputs": [
    {
     "data": {
      "text/plain": [
       "13"
      ]
     },
     "execution_count": 5,
     "metadata": {},
     "output_type": "execute_result"
    }
   ],
   "source": [
    "len(a)"
   ]
  },
  {
   "cell_type": "code",
   "execution_count": 6,
   "id": "54d2c7ac",
   "metadata": {},
   "outputs": [
    {
     "ename": "IndexError",
     "evalue": "string index out of range",
     "output_type": "error",
     "traceback": [
      "\u001b[1;31m---------------------------------------------------------------------------\u001b[0m",
      "\u001b[1;31mIndexError\u001b[0m                                Traceback (most recent call last)",
      "\u001b[1;32mC:\\Users\\ADMINI~1\\AppData\\Local\\Temp/ipykernel_44740/2685650657.py\u001b[0m in \u001b[0;36m<module>\u001b[1;34m\u001b[0m\n\u001b[1;32m----> 1\u001b[1;33m \u001b[0ma\u001b[0m\u001b[1;33m[\u001b[0m\u001b[1;36m13\u001b[0m\u001b[1;33m]\u001b[0m\u001b[1;33m\u001b[0m\u001b[1;33m\u001b[0m\u001b[0m\n\u001b[0m",
      "\u001b[1;31mIndexError\u001b[0m: string index out of range"
     ]
    }
   ],
   "source": [
    "a[13]"
   ]
  },
  {
   "cell_type": "code",
   "execution_count": 7,
   "id": "97367d1c",
   "metadata": {},
   "outputs": [
    {
     "data": {
      "text/plain": [
       "'a'"
      ]
     },
     "execution_count": 7,
     "metadata": {},
     "output_type": "execute_result"
    }
   ],
   "source": [
    "a[12]"
   ]
  },
  {
   "cell_type": "code",
   "execution_count": 9,
   "id": "4ffca493",
   "metadata": {},
   "outputs": [
    {
     "data": {
      "text/plain": [
       "'s'"
      ]
     },
     "execution_count": 9,
     "metadata": {},
     "output_type": "execute_result"
    }
   ],
   "source": [
    "a[0]"
   ]
  },
  {
   "cell_type": "code",
   "execution_count": 17,
   "id": "561fe65e",
   "metadata": {},
   "outputs": [
    {
     "data": {
      "text/plain": [
       "'samosa pakora'"
      ]
     },
     "execution_count": 17,
     "metadata": {},
     "output_type": "execute_result"
    }
   ],
   "source": [
    "a[0:13]\n",
    "#last index is exclusive"
   ]
  },
  {
   "cell_type": "code",
   "execution_count": 11,
   "id": "ef5ac705",
   "metadata": {},
   "outputs": [
    {
     "data": {
      "text/plain": [
       "'pakora'"
      ]
     },
     "execution_count": 11,
     "metadata": {},
     "output_type": "execute_result"
    }
   ],
   "source": [
    "a[-6:13]"
   ]
  },
  {
   "cell_type": "code",
   "execution_count": 16,
   "id": "df1ce00c",
   "metadata": {},
   "outputs": [
    {
     "data": {
      "text/plain": [
       "'Biryani'"
      ]
     },
     "execution_count": 16,
     "metadata": {},
     "output_type": "execute_result"
    }
   ],
   "source": [
    "food = \"Biryani\"\n",
    "food"
   ]
  },
  {
   "cell_type": "markdown",
   "id": "83e84d5a",
   "metadata": {},
   "source": [
    "### string methods"
   ]
  },
  {
   "cell_type": "code",
   "execution_count": 18,
   "id": "5f6f8dcd",
   "metadata": {},
   "outputs": [
    {
     "data": {
      "text/plain": [
       "'I love noodles, dumplings and malatang'"
      ]
     },
     "execution_count": 18,
     "metadata": {},
     "output_type": "execute_result"
    }
   ],
   "source": [
    "food = 'I love noodles, dumplings and malatang'\n",
    "food"
   ]
  },
  {
   "cell_type": "code",
   "execution_count": 19,
   "id": "98d18e65",
   "metadata": {
    "scrolled": true
   },
   "outputs": [
    {
     "data": {
      "text/plain": [
       "38"
      ]
     },
     "execution_count": 19,
     "metadata": {},
     "output_type": "execute_result"
    }
   ],
   "source": [
    "#lenght of string\n",
    "len(food)"
   ]
  },
  {
   "cell_type": "code",
   "execution_count": 20,
   "id": "006c3a7c",
   "metadata": {},
   "outputs": [
    {
     "data": {
      "text/plain": [
       "'I LOVE NOODLES, DUMPLINGS AND MALATANG'"
      ]
     },
     "execution_count": 20,
     "metadata": {},
     "output_type": "execute_result"
    }
   ],
   "source": [
    "#UPPERCASE letter\n",
    "food.upper()"
   ]
  },
  {
   "cell_type": "code",
   "execution_count": 21,
   "id": "80297ce3",
   "metadata": {},
   "outputs": [
    {
     "data": {
      "text/plain": [
       "'i love noodles, dumplings and malatang'"
      ]
     },
     "execution_count": 21,
     "metadata": {},
     "output_type": "execute_result"
    }
   ],
   "source": [
    "#lowercase letters\n",
    "food.lower()"
   ]
  },
  {
   "cell_type": "code",
   "execution_count": 22,
   "id": "8bfb9472",
   "metadata": {},
   "outputs": [
    {
     "data": {
      "text/plain": [
       "'Ehsam_Gulvi'"
      ]
     },
     "execution_count": 22,
     "metadata": {},
     "output_type": "execute_result"
    }
   ],
   "source": [
    "#counting a specific alphabet of a string\n",
    "name = \"Ehsam_Gulvi\"\n",
    "name\n"
   ]
  },
  {
   "cell_type": "code",
   "execution_count": 23,
   "id": "f8a53da2",
   "metadata": {},
   "outputs": [
    {
     "data": {
      "text/plain": [
       "1"
      ]
     },
     "execution_count": 23,
     "metadata": {},
     "output_type": "execute_result"
    }
   ],
   "source": [
    "name.count(\"s\")"
   ]
  },
  {
   "cell_type": "markdown",
   "id": "86417b41",
   "metadata": {},
   "source": [
    "### - fininding an index number in string"
   ]
  },
  {
   "cell_type": "code",
   "execution_count": 24,
   "id": "6a5cad3b",
   "metadata": {},
   "outputs": [
    {
     "data": {
      "text/plain": [
       "'Ehsam_Gulvi'"
      ]
     },
     "execution_count": 24,
     "metadata": {},
     "output_type": "execute_result"
    }
   ],
   "source": [
    "name"
   ]
  },
  {
   "cell_type": "code",
   "execution_count": 25,
   "id": "48efc8c1",
   "metadata": {},
   "outputs": [
    {
     "data": {
      "text/plain": [
       "6"
      ]
     },
     "execution_count": 25,
     "metadata": {},
     "output_type": "execute_result"
    }
   ],
   "source": [
    "name.find(\"G\")"
   ]
  },
  {
   "cell_type": "code",
   "execution_count": 26,
   "id": "ff781db5",
   "metadata": {},
   "outputs": [
    {
     "data": {
      "text/plain": [
       "'I love noodles, dumplings and malatang'"
      ]
     },
     "execution_count": 26,
     "metadata": {},
     "output_type": "execute_result"
    }
   ],
   "source": [
    "### - how to split a string\n",
    "food = \"I love noodles, dumplings and malatang\"\n",
    "food"
   ]
  },
  {
   "cell_type": "code",
   "execution_count": 27,
   "id": "b17e32c6",
   "metadata": {},
   "outputs": [
    {
     "data": {
      "text/plain": [
       "['I love noodles', ' dumplings and malatang']"
      ]
     },
     "execution_count": 27,
     "metadata": {},
     "output_type": "execute_result"
    }
   ],
   "source": [
    "food.split(\",\")"
   ]
  },
  {
   "cell_type": "markdown",
   "id": "be11d61b",
   "metadata": {},
   "source": [
    "# Basic data structure in Python\n",
    "### 1- Tuple\n",
    "### 2- List\n",
    "### 3- Dictionaries\n",
    "### 4- Set\n",
    "\n",
    "## 1- Tuple\n",
    "- ordered collection of elements\n",
    "- enclosed in () round bracket/paranthesis\n",
    "- different kind of elements can be stored (integer, float, boolean, string)\n",
    "- once elements are stored you cannnot change them (Unmutateable)\n"
   ]
  },
  {
   "cell_type": "code",
   "execution_count": 1,
   "id": "4f13f30f",
   "metadata": {},
   "outputs": [
    {
     "data": {
      "text/plain": [
       "(1, 'python', True, 2.5)"
      ]
     },
     "execution_count": 1,
     "metadata": {},
     "output_type": "execute_result"
    }
   ],
   "source": [
    "tupl1 = (1, \"python\", True, 2.5)\n",
    "tupl1"
   ]
  },
  {
   "cell_type": "code",
   "execution_count": 2,
   "id": "c19e6d27",
   "metadata": {
    "scrolled": true
   },
   "outputs": [
    {
     "data": {
      "text/plain": [
       "tuple"
      ]
     },
     "execution_count": 2,
     "metadata": {},
     "output_type": "execute_result"
    }
   ],
   "source": [
    "#type of tupl\n",
    "type(tupl1)"
   ]
  },
  {
   "cell_type": "markdown",
   "id": "9ba3de11",
   "metadata": {},
   "source": [
    "### - Indexing in tuple"
   ]
  },
  {
   "cell_type": "code",
   "execution_count": 6,
   "id": "25bf5096",
   "metadata": {},
   "outputs": [
    {
     "data": {
      "text/plain": [
       "'python'"
      ]
     },
     "execution_count": 6,
     "metadata": {},
     "output_type": "execute_result"
    }
   ],
   "source": [
    "tupl1[1]"
   ]
  },
  {
   "cell_type": "code",
   "execution_count": 7,
   "id": "e1d28465",
   "metadata": {},
   "outputs": [
    {
     "data": {
      "text/plain": [
       "True"
      ]
     },
     "execution_count": 7,
     "metadata": {},
     "output_type": "execute_result"
    }
   ],
   "source": [
    "tupl1[2]"
   ]
  },
  {
   "cell_type": "code",
   "execution_count": 8,
   "id": "5e64b0ee",
   "metadata": {},
   "outputs": [
    {
     "data": {
      "text/plain": [
       "2.5"
      ]
     },
     "execution_count": 8,
     "metadata": {},
     "output_type": "execute_result"
    }
   ],
   "source": [
    "tupl1[3]"
   ]
  },
  {
   "cell_type": "code",
   "execution_count": 9,
   "id": "2006ee86",
   "metadata": {},
   "outputs": [
    {
     "data": {
      "text/plain": [
       "1"
      ]
     },
     "execution_count": 9,
     "metadata": {},
     "output_type": "execute_result"
    }
   ],
   "source": [
    "tupl1[0]"
   ]
  },
  {
   "cell_type": "code",
   "execution_count": 11,
   "id": "822c42e1",
   "metadata": {},
   "outputs": [
    {
     "data": {
      "text/plain": [
       "(1, 'python', True)"
      ]
     },
     "execution_count": 11,
     "metadata": {},
     "output_type": "execute_result"
    }
   ],
   "source": [
    "#last element is exclusive\n",
    "tupl1[0:3]"
   ]
  },
  {
   "cell_type": "code",
   "execution_count": 14,
   "id": "babed6f8",
   "metadata": {},
   "outputs": [
    {
     "data": {
      "text/plain": [
       "4"
      ]
     },
     "execution_count": 14,
     "metadata": {},
     "output_type": "execute_result"
    }
   ],
   "source": [
    "#count of elements in tuple\n",
    "len(tupl1)"
   ]
  },
  {
   "cell_type": "code",
   "execution_count": 36,
   "id": "70ad85c4",
   "metadata": {},
   "outputs": [
    {
     "data": {
      "text/plain": [
       "(2, 'Ehsam_Gulvi', 3.5, False)"
      ]
     },
     "execution_count": 36,
     "metadata": {},
     "output_type": "execute_result"
    }
   ],
   "source": [
    "tup2 = (2, \"Ehsam_Gulvi\", 3.5, False)\n",
    "tup2"
   ]
  },
  {
   "cell_type": "code",
   "execution_count": 17,
   "id": "c3c44658",
   "metadata": {},
   "outputs": [
    {
     "data": {
      "text/plain": [
       "(1, 'python', True, 2.5, 2, 'Emsam_Gulvi', 3.5, False)"
      ]
     },
     "execution_count": 17,
     "metadata": {},
     "output_type": "execute_result"
    }
   ],
   "source": [
    "#concatinate is a Python's termnilogy for addition or intersection of tuples\n",
    "tupl1 + tup2"
   ]
  },
  {
   "cell_type": "code",
   "execution_count": 30,
   "id": "661cd9c3",
   "metadata": {},
   "outputs": [
    {
     "data": {
      "text/plain": [
       "(1, 'python', True, 2.5, 1, 'python', True, 2.5, 2, 'Emsam_Gulvi', 3.5, False)"
      ]
     },
     "execution_count": 30,
     "metadata": {},
     "output_type": "execute_result"
    }
   ],
   "source": [
    "#repeat and Concatinate\n",
    "tupl1*2 + tup2"
   ]
  },
  {
   "cell_type": "code",
   "execution_count": 22,
   "id": "5a7222cc",
   "metadata": {},
   "outputs": [
    {
     "data": {
      "text/plain": [
       "(10, 15, 23, 50, 100)"
      ]
     },
     "execution_count": 22,
     "metadata": {},
     "output_type": "execute_result"
    }
   ],
   "source": [
    "tup3 = (10, 15, 23, 50, 100)\n",
    "tup3"
   ]
  },
  {
   "cell_type": "code",
   "execution_count": 23,
   "id": "7b4ca759",
   "metadata": {},
   "outputs": [
    {
     "data": {
      "text/plain": [
       "100"
      ]
     },
     "execution_count": 23,
     "metadata": {},
     "output_type": "execute_result"
    }
   ],
   "source": [
    "#maximum\n",
    "max(tup3)"
   ]
  },
  {
   "cell_type": "code",
   "execution_count": 25,
   "id": "a7ee07ae",
   "metadata": {},
   "outputs": [
    {
     "data": {
      "text/plain": [
       "10"
      ]
     },
     "execution_count": 25,
     "metadata": {},
     "output_type": "execute_result"
    }
   ],
   "source": [
    "#minimum\n",
    "min(tup3)"
   ]
  },
  {
   "cell_type": "code",
   "execution_count": 33,
   "id": "06c5b494",
   "metadata": {},
   "outputs": [
    {
     "data": {
      "text/plain": [
       "(10, 15, 23, 50, 100, 10, 15, 23, 50, 100, 10, 15, 23, 50, 100)"
      ]
     },
     "execution_count": 33,
     "metadata": {},
     "output_type": "execute_result"
    }
   ],
   "source": [
    "#For repetition\n",
    "tup3*3"
   ]
  },
  {
   "cell_type": "markdown",
   "id": "3b0ead44",
   "metadata": {},
   "source": [
    "---"
   ]
  },
  {
   "cell_type": "markdown",
   "id": "7342608f",
   "metadata": {},
   "source": [
    "## 2- Lists\n",
    "- ordered collection of elements\n",
    "- enclosed in square brackets [ ]\n",
    "- mutateable (you can change the values)"
   ]
  },
  {
   "cell_type": "code",
   "execution_count": 37,
   "id": "b3901754",
   "metadata": {},
   "outputs": [
    {
     "data": {
      "text/plain": [
       "[2, 'Ehsam_Gulvi', 3.5, False]"
      ]
     },
     "execution_count": 37,
     "metadata": {},
     "output_type": "execute_result"
    }
   ],
   "source": [
    "list1 =[2, \"Ehsam_Gulvi\", 3.5, False]\n",
    "list1"
   ]
  },
  {
   "cell_type": "code",
   "execution_count": 39,
   "id": "92b24e70",
   "metadata": {},
   "outputs": [
    {
     "data": {
      "text/plain": [
       "list"
      ]
     },
     "execution_count": 39,
     "metadata": {},
     "output_type": "execute_result"
    }
   ],
   "source": [
    "#to know the type \n",
    "type(list1)"
   ]
  },
  {
   "cell_type": "code",
   "execution_count": 40,
   "id": "5150f31d",
   "metadata": {},
   "outputs": [
    {
     "data": {
      "text/plain": [
       "4"
      ]
     },
     "execution_count": 40,
     "metadata": {},
     "output_type": "execute_result"
    }
   ],
   "source": [
    "#to know the lenght \n",
    "len(list1)"
   ]
  },
  {
   "cell_type": "code",
   "execution_count": 41,
   "id": "e1a01e54",
   "metadata": {},
   "outputs": [
    {
     "data": {
      "text/plain": [
       "3.5"
      ]
     },
     "execution_count": 41,
     "metadata": {},
     "output_type": "execute_result"
    }
   ],
   "source": [
    "list1[2]"
   ]
  },
  {
   "cell_type": "code",
   "execution_count": 46,
   "id": "eb5b1b54",
   "metadata": {},
   "outputs": [
    {
     "data": {
      "text/plain": [
       "[2, 3, 'Ehsam_Gulvi', 'Python', 200, 340.5, False]"
      ]
     },
     "execution_count": 46,
     "metadata": {},
     "output_type": "execute_result"
    }
   ],
   "source": [
    "list2=[2, 3, \"Ehsam_Gulvi\", \"Python\", 200, 340.5, False]\n",
    "list2"
   ]
  },
  {
   "cell_type": "code",
   "execution_count": 47,
   "id": "c36373b3",
   "metadata": {},
   "outputs": [
    {
     "data": {
      "text/plain": [
       "[2,\n",
       " 'Ehsam_Gulvi',\n",
       " 3.5,\n",
       " False,\n",
       " 2,\n",
       " 3,\n",
       " 'Ehsam_Gulvi',\n",
       " 'Python',\n",
       " 200,\n",
       " 340.5,\n",
       " False]"
      ]
     },
     "execution_count": 47,
     "metadata": {},
     "output_type": "execute_result"
    }
   ],
   "source": [
    "#addition of lists\n",
    "list1+list2"
   ]
  },
  {
   "cell_type": "code",
   "execution_count": 48,
   "id": "b3f2a70a",
   "metadata": {},
   "outputs": [
    {
     "data": {
      "text/plain": [
       "[2, 'Ehsam_Gulvi', 3.5, False, 2, 'Ehsam_Gulvi', 3.5, False]"
      ]
     },
     "execution_count": 48,
     "metadata": {},
     "output_type": "execute_result"
    }
   ],
   "source": [
    "#to repeat the elements of lists mutiple times\n",
    "list1*2"
   ]
  },
  {
   "cell_type": "code",
   "execution_count": 60,
   "id": "e4544d82",
   "metadata": {},
   "outputs": [
    {
     "data": {
      "text/plain": [
       "[False, 3.5, 'Ehsam_Gulvi', 2]"
      ]
     },
     "execution_count": 60,
     "metadata": {},
     "output_type": "execute_result"
    }
   ],
   "source": [
    "list1"
   ]
  },
  {
   "cell_type": "code",
   "execution_count": 83,
   "id": "776355a3",
   "metadata": {},
   "outputs": [
    {
     "data": {
      "text/plain": [
       "[2, 'Ehsam_Gulvi', 3.5, False]"
      ]
     },
     "execution_count": 83,
     "metadata": {},
     "output_type": "execute_result"
    }
   ],
   "source": [
    "#to reverse the order of elements in list\n",
    "list1.reverse()\n",
    "list1"
   ]
  },
  {
   "cell_type": "code",
   "execution_count": 94,
   "id": "dd89eb71",
   "metadata": {
    "scrolled": true
   },
   "outputs": [
    {
     "data": {
      "text/plain": [
       "[2,\n",
       " 'Ehsam_Gulvi',\n",
       " 3.5,\n",
       " False,\n",
       " 'codanics youtube channel',\n",
       " 'codanics youtube channel',\n",
       " 'codanics youtube channel',\n",
       " 'codanics youtube channel',\n",
       " 'codanics youtube channel',\n",
       " 'codanics youtube channel',\n",
       " 'codanics youtube channel',\n",
       " 'codanics youtube channel',\n",
       " 'codanics youtube channel']"
      ]
     },
     "execution_count": 94,
     "metadata": {},
     "output_type": "execute_result"
    }
   ],
   "source": [
    "#append (to add something with existing list\n",
    "list1.append(\"codanics youtube channel\")\n",
    "list1"
   ]
  },
  {
   "cell_type": "code",
   "execution_count": 102,
   "id": "d841916c",
   "metadata": {},
   "outputs": [
    {
     "data": {
      "text/plain": [
       "0"
      ]
     },
     "execution_count": 102,
     "metadata": {},
     "output_type": "execute_result"
    }
   ],
   "source": [
    "#list count\n",
    "list1.count(1)"
   ]
  },
  {
   "cell_type": "code",
   "execution_count": 107,
   "id": "5c4d2be8",
   "metadata": {},
   "outputs": [
    {
     "data": {
      "text/plain": [
       "[20, 30, 35, 40, 15, 11, 50]"
      ]
     },
     "execution_count": 107,
     "metadata": {},
     "output_type": "execute_result"
    }
   ],
   "source": [
    "list3 = [20, 30, 35, 40, 15, 11, 50]\n",
    "list3"
   ]
  },
  {
   "cell_type": "code",
   "execution_count": 108,
   "id": "885f5be1",
   "metadata": {},
   "outputs": [
    {
     "data": {
      "text/plain": [
       "7"
      ]
     },
     "execution_count": 108,
     "metadata": {},
     "output_type": "execute_result"
    }
   ],
   "source": [
    "len(list3)"
   ]
  },
  {
   "cell_type": "code",
   "execution_count": 110,
   "id": "8d681901",
   "metadata": {},
   "outputs": [
    {
     "data": {
      "text/plain": [
       "[11, 15, 20, 30, 35, 40, 50]"
      ]
     },
     "execution_count": 110,
     "metadata": {},
     "output_type": "execute_result"
    }
   ],
   "source": [
    "#sorting a list\n",
    "list3.sort()\n",
    "list3"
   ]
  },
  {
   "cell_type": "code",
   "execution_count": 114,
   "id": "342a55e5",
   "metadata": {},
   "outputs": [
    {
     "data": {
      "text/plain": [
       "[11, 15, 20, 30, 35, 40, 50, 11, 15, 20, 30, 35, 40, 50]"
      ]
     },
     "execution_count": 114,
     "metadata": {},
     "output_type": "execute_result"
    }
   ],
   "source": [
    "list3*2"
   ]
  },
  {
   "cell_type": "code",
   "execution_count": 117,
   "id": "2ea6cb37",
   "metadata": {},
   "outputs": [
    {
     "data": {
      "text/plain": [
       "[2,\n",
       " 'Ehsam_Gulvi',\n",
       " 3.5,\n",
       " False,\n",
       " 'codanics youtube channel',\n",
       " 'codanics youtube channel',\n",
       " 'codanics youtube channel',\n",
       " 'codanics youtube channel',\n",
       " 'codanics youtube channel',\n",
       " 'codanics youtube channel',\n",
       " 'codanics youtube channel',\n",
       " 'codanics youtube channel',\n",
       " 'codanics youtube channel',\n",
       " 2,\n",
       " 3,\n",
       " 'Ehsam_Gulvi',\n",
       " 'Python',\n",
       " 200,\n",
       " 340.5,\n",
       " False,\n",
       " 11,\n",
       " 15,\n",
       " 20,\n",
       " 30,\n",
       " 35,\n",
       " 40,\n",
       " 50]"
      ]
     },
     "execution_count": 117,
     "metadata": {},
     "output_type": "execute_result"
    }
   ],
   "source": [
    "#concatinat\n",
    "lists=list1+list2+list3\n",
    "lists"
   ]
  },
  {
   "cell_type": "markdown",
   "id": "f972c029",
   "metadata": {},
   "source": [
    "## 3- Dictionaries\n",
    "- An unordered collection of elements (the order of elements will not effect on the value of variable)\n",
    "- Key and value\n",
    "- Braces or curly brakets\n",
    "- Mutateable\n"
   ]
  },
  {
   "cell_type": "code",
   "execution_count": 122,
   "id": "5ce9d47e",
   "metadata": {},
   "outputs": [
    {
     "data": {
      "text/plain": [
       "{'Samosa': 30, 'Pakora': 100, 'Raita': 20, 'Salad': 50, 'Chiken Rolls': 30}"
      ]
     },
     "execution_count": 122,
     "metadata": {},
     "output_type": "execute_result"
    }
   ],
   "source": [
    "#Food and prices\n",
    "Food1 = {\"Samosa\": 30, \"Pakora\": 100, \"Raita\":20, \"Salad\": 50, \"Chiken Rolls\": 30 }\n",
    "Food1"
   ]
  },
  {
   "cell_type": "code",
   "execution_count": 123,
   "id": "ec964e22",
   "metadata": {},
   "outputs": [
    {
     "data": {
      "text/plain": [
       "dict"
      ]
     },
     "execution_count": 123,
     "metadata": {},
     "output_type": "execute_result"
    }
   ],
   "source": [
    "type(Food1)"
   ]
  },
  {
   "cell_type": "code",
   "execution_count": 124,
   "id": "07cae902",
   "metadata": {},
   "outputs": [
    {
     "data": {
      "text/plain": [
       "dict_keys(['Samosa', 'Pakora', 'Raita', 'Salad', 'Chiken Rolls'])"
      ]
     },
     "execution_count": 124,
     "metadata": {},
     "output_type": "execute_result"
    }
   ],
   "source": [
    "#Extract data\n",
    "keys1= Food1.keys()\n",
    "keys1"
   ]
  },
  {
   "cell_type": "code",
   "execution_count": 125,
   "id": "4d1df272",
   "metadata": {},
   "outputs": [
    {
     "data": {
      "text/plain": [
       "dict_values([30, 100, 20, 50, 30])"
      ]
     },
     "execution_count": 125,
     "metadata": {},
     "output_type": "execute_result"
    }
   ],
   "source": [
    "values1 = Food1.values()\n",
    "values1"
   ]
  },
  {
   "cell_type": "code",
   "execution_count": 126,
   "id": "40dccc33",
   "metadata": {},
   "outputs": [
    {
     "data": {
      "text/plain": [
       "{'Samosa': 30,\n",
       " 'Pakora': 100,\n",
       " 'Raita': 20,\n",
       " 'Salad': 50,\n",
       " 'Chiken Rolls': 30,\n",
       " 'Tikki': 10}"
      ]
     },
     "execution_count": 126,
     "metadata": {},
     "output_type": "execute_result"
    }
   ],
   "source": [
    "#adding a new element\n",
    "Food1[\"Tikki\"]=10\n",
    "Food1"
   ]
  },
  {
   "cell_type": "code",
   "execution_count": 133,
   "id": "5dff2e8f",
   "metadata": {},
   "outputs": [
    {
     "data": {
      "text/plain": [
       "{'Samosa': 30,\n",
       " 'Pakora': 100,\n",
       " 'Raita': 20,\n",
       " 'Salad': 50,\n",
       " 'Chiken Rolls': 30,\n",
       " 'Tikki': 15}"
      ]
     },
     "execution_count": 133,
     "metadata": {},
     "output_type": "execute_result"
    }
   ],
   "source": [
    "#Mutate (Update the values)\n",
    "Food1[\"Tikki\"]=15\n",
    "Food1"
   ]
  },
  {
   "cell_type": "code",
   "execution_count": 134,
   "id": "0d6b866f",
   "metadata": {},
   "outputs": [
    {
     "data": {
      "text/plain": [
       "{'Dates': 15, 'Chocolates': 200, 'Sawaya': 1000}"
      ]
     },
     "execution_count": 134,
     "metadata": {},
     "output_type": "execute_result"
    }
   ],
   "source": [
    "Food2 = {\"Dates\": 15, \"Chocolates\": 200, \"Sawaya\": 1000}\n",
    "Food2"
   ]
  },
  {
   "cell_type": "code",
   "execution_count": 136,
   "id": "70c76598",
   "metadata": {},
   "outputs": [],
   "source": [
    "#Concatinate\n",
    "Food1.update(Food2)"
   ]
  },
  {
   "cell_type": "code",
   "execution_count": 137,
   "id": "271c1d2c",
   "metadata": {},
   "outputs": [
    {
     "data": {
      "text/plain": [
       "{'Samosa': 30,\n",
       " 'Pakora': 100,\n",
       " 'Raita': 20,\n",
       " 'Salad': 50,\n",
       " 'Chiken Rolls': 30,\n",
       " 'Tikki': 15,\n",
       " 'Dates': 15,\n",
       " 'Chocolates': 200,\n",
       " 'Sawaya': 1000}"
      ]
     },
     "execution_count": 137,
     "metadata": {},
     "output_type": "execute_result"
    }
   ],
   "source": [
    "Food1"
   ]
  },
  {
   "cell_type": "markdown",
   "id": "d4aa537f",
   "metadata": {},
   "source": [
    "## 4- Set\n",
    "- Unordered and unindexed\n",
    "- Curly brakets/braces\n",
    "- No duplicates"
   ]
  },
  {
   "cell_type": "code",
   "execution_count": 162,
   "id": "1e42829e",
   "metadata": {},
   "outputs": [
    {
     "data": {
      "text/plain": [
       "{1, 2, 3, 4, 5, 'Ehsam', 'Learning Python'}"
      ]
     },
     "execution_count": 162,
     "metadata": {},
     "output_type": "execute_result"
    }
   ],
   "source": [
    "#Boolean operators cannot be printed in sets\n",
    "s1={1,2, 3,5,4, \"Ehsam\", \"Learning Python\", True}\n",
    "s1"
   ]
  },
  {
   "cell_type": "code",
   "execution_count": 163,
   "id": "2691f415",
   "metadata": {},
   "outputs": [
    {
     "data": {
      "text/plain": [
       "{1, 2, 3, 4, 5, 'Ehsam', 'Learning Python', 'Next is R'}"
      ]
     },
     "execution_count": 163,
     "metadata": {},
     "output_type": "execute_result"
    }
   ],
   "source": [
    "#If the new element already exists then it will only print the previous one\n",
    "s1.add(\"Next is R\")\n",
    "s1"
   ]
  },
  {
   "cell_type": "code",
   "execution_count": 159,
   "id": "c002dd55",
   "metadata": {},
   "outputs": [
    {
     "data": {
      "text/plain": [
       "set()"
      ]
     },
     "execution_count": 159,
     "metadata": {},
     "output_type": "execute_result"
    }
   ],
   "source": [
    "#Remove all the elemnts for the set\n",
    "#s1.clear()\n",
    "s1"
   ]
  },
  {
   "cell_type": "code",
   "execution_count": 168,
   "id": "58d5b7b0",
   "metadata": {},
   "outputs": [
    {
     "data": {
      "text/plain": [
       "{2, 4, 5, 'Gulvi'}"
      ]
     },
     "execution_count": 168,
     "metadata": {},
     "output_type": "execute_result"
    }
   ],
   "source": [
    "s2 ={2,4,5, \"Gulvi\"}\n",
    "s2"
   ]
  },
  {
   "cell_type": "code",
   "execution_count": 165,
   "id": "acf81415",
   "metadata": {
    "scrolled": true
   },
   "outputs": [
    {
     "data": {
      "text/plain": [
       "{1, 2, 3, 4, 5, 'Ehsam', 'Learning Python', 'Next is R'}"
      ]
     },
     "execution_count": 165,
     "metadata": {},
     "output_type": "execute_result"
    }
   ],
   "source": [
    "#Return a shallow copy of a set\n",
    "s1.copy()\n",
    "s1"
   ]
  },
  {
   "cell_type": "code",
   "execution_count": 169,
   "id": "1f8b896e",
   "metadata": {},
   "outputs": [
    {
     "data": {
      "text/plain": [
       "{1, 3, 'Ehsam', 'Learning Python', 'Next is R'}"
      ]
     },
     "execution_count": 169,
     "metadata": {},
     "output_type": "execute_result"
    }
   ],
   "source": [
    "#Return the difference of two or more sets as a new set\n",
    "s1.difference(s2)"
   ]
  },
  {
   "cell_type": "code",
   "execution_count": 171,
   "id": "98d5f847",
   "metadata": {},
   "outputs": [
    {
     "data": {
      "text/plain": [
       "{1, 3, 'Ehsam', 'Learning Python', 'Next is R'}"
      ]
     },
     "execution_count": 171,
     "metadata": {},
     "output_type": "execute_result"
    }
   ],
   "source": [
    "s1.difference_update(s2)\n",
    "s1"
   ]
  },
  {
   "cell_type": "code",
   "execution_count": 176,
   "id": "58a84769",
   "metadata": {},
   "outputs": [
    {
     "data": {
      "text/plain": [
       "{1, 3, 'Ehsam', 'Learning Python', 'Next is R'}"
      ]
     },
     "execution_count": 176,
     "metadata": {},
     "output_type": "execute_result"
    }
   ],
   "source": [
    "#Remove an element from a set if it is a member. If the element is not a member, do nothing.\n",
    "s1.discard(s2)\n",
    "s1"
   ]
  },
  {
   "cell_type": "code",
   "execution_count": null,
   "id": "d4f8c926",
   "metadata": {},
   "outputs": [],
   "source": [
    "s1.intersection"
   ]
  },
  {
   "cell_type": "code",
   "execution_count": null,
   "id": "5fff1447",
   "metadata": {},
   "outputs": [],
   "source": [
    "s1.intersection_update"
   ]
  },
  {
   "cell_type": "code",
   "execution_count": null,
   "id": "44393072",
   "metadata": {},
   "outputs": [],
   "source": [
    "s1.isdisjoint"
   ]
  },
  {
   "cell_type": "code",
   "execution_count": null,
   "id": "bf7ad776",
   "metadata": {},
   "outputs": [],
   "source": [
    "s1.issubset"
   ]
  },
  {
   "cell_type": "code",
   "execution_count": null,
   "id": "d8ff5464",
   "metadata": {},
   "outputs": [],
   "source": [
    "s1.issuperset"
   ]
  },
  {
   "cell_type": "code",
   "execution_count": null,
   "id": "6dd0edfd",
   "metadata": {},
   "outputs": [],
   "source": [
    "s1.pop"
   ]
  },
  {
   "cell_type": "code",
   "execution_count": null,
   "id": "1397aa0a",
   "metadata": {},
   "outputs": [],
   "source": [
    "s1.remove"
   ]
  },
  {
   "cell_type": "code",
   "execution_count": null,
   "id": "d1c2b03e",
   "metadata": {},
   "outputs": [],
   "source": [
    "s1.symmetric_difference"
   ]
  },
  {
   "cell_type": "code",
   "execution_count": null,
   "id": "9deb9bbd",
   "metadata": {},
   "outputs": [],
   "source": [
    "s1.symmetric_difference_update"
   ]
  },
  {
   "cell_type": "code",
   "execution_count": null,
   "id": "0116f7a6",
   "metadata": {},
   "outputs": [],
   "source": [
    "s1.union"
   ]
  },
  {
   "cell_type": "code",
   "execution_count": null,
   "id": "81b31da1",
   "metadata": {},
   "outputs": [],
   "source": [
    "s1.update"
   ]
  },
  {
   "cell_type": "code",
   "execution_count": null,
   "id": "e130a1d6",
   "metadata": {},
   "outputs": [],
   "source": []
  },
  {
   "cell_type": "markdown",
   "id": "a0ab7900",
   "metadata": {},
   "source": [
    "## NumPy\n",
    "### To access NumPy and its functions import it in your Python code like this:\n",
    "### - import numpy as np\n",
    "\n",
    "# #How it looks like?\n",
    "# >>> a = np.arrange(6)\n",
    "# >>> a2 = a[np.bewaxis, :]\n",
    "# >>> a2.np.shape\n",
    "# (1, 6)\n",
    "\n",
    "### What is an array?\n",
    "   #### - An array is a central data sturcture of the Numpy library\n",
    "   #### - An array is a grid of values and it contains information about the raw data, how to locate and element, and how to interpret on element.\n",
    "   #### - it has a grid of element that can be indexed in various ways.\n",
    "   #### - The element are all of the same type, reffered to as the array dtype\n",
    "   #### - An array can be indexed by a tuple of non-begative integers, by Booleans, by another array, or by integers.\n",
    "\n",
    "### What is the rank of an array?\n",
    "   #### - the rank of the array is the number of dimensions.\n",
    "\n",
    "### What is the shape of an array?\n",
    "   #### - the sahape of the array is a tuple of integers giving the size of the array along each dimension.\n",
    "   \n",
    "## Vector\n",
    "### - a vector is an array with a single dimension(there's no difference between row and column vectors)\n",
    "\n",
    "## Matrix\n",
    "### - a matrix refers to an array with two dimensions.\n"
   ]
  },
  {
   "cell_type": "markdown",
   "id": "65e1d5ae",
   "metadata": {},
   "source": [
    "## How to create an array?"
   ]
  },
  {
   "cell_type": "code",
   "execution_count": 200,
   "id": "7c8cc7f2",
   "metadata": {},
   "outputs": [
    {
     "data": {
      "text/plain": [
       "array([1, 2, 3, 4, 5])"
      ]
     },
     "execution_count": 200,
     "metadata": {},
     "output_type": "execute_result"
    }
   ],
   "source": [
    "import numpy as np\n",
    "a = np.array([1,2,3,4,5])\n",
    "a"
   ]
  },
  {
   "cell_type": "code",
   "execution_count": 209,
   "id": "376a5559",
   "metadata": {},
   "outputs": [
    {
     "data": {
      "text/plain": [
       "array([1., 1., 1.])"
      ]
     },
     "execution_count": 209,
     "metadata": {},
     "output_type": "execute_result"
    }
   ],
   "source": [
    "b = np.ones(3)\n",
    "b"
   ]
  },
  {
   "cell_type": "code",
   "execution_count": 211,
   "id": "1c2fbdec",
   "metadata": {},
   "outputs": [
    {
     "data": {
      "text/plain": [
       "array([1., 1., 1.])"
      ]
     },
     "execution_count": 211,
     "metadata": {},
     "output_type": "execute_result"
    }
   ],
   "source": [
    "#create an empty array with 2 elements\n",
    "d = np.empty(3)\n",
    "d"
   ]
  },
  {
   "cell_type": "code",
   "execution_count": 212,
   "id": "efd3e6a5",
   "metadata": {},
   "outputs": [
    {
     "data": {
      "text/plain": [
       "array([0, 1, 2, 3, 4])"
      ]
     },
     "execution_count": 212,
     "metadata": {},
     "output_type": "execute_result"
    }
   ],
   "source": [
    "#with range of elements\n",
    "e=np.arange(5)\n",
    "e"
   ]
  },
  {
   "cell_type": "code",
   "execution_count": 213,
   "id": "9dd6f446",
   "metadata": {},
   "outputs": [
    {
     "data": {
      "text/plain": [
       "array([ 2,  3,  4,  5,  6,  7,  8,  9, 10, 11, 12, 13, 14])"
      ]
     },
     "execution_count": 213,
     "metadata": {},
     "output_type": "execute_result"
    }
   ],
   "source": [
    "#with specific range of elements\n",
    "f=np.arange(2,15)\n",
    "f"
   ]
  },
  {
   "cell_type": "code",
   "execution_count": 216,
   "id": "004c330a",
   "metadata": {},
   "outputs": [
    {
     "data": {
      "text/plain": [
       "array([ 2,  6, 10, 14, 18])"
      ]
     },
     "execution_count": 216,
     "metadata": {},
     "output_type": "execute_result"
    }
   ],
   "source": [
    "#continue.\n",
    "g=np.arange(2,20,4)\n",
    "g"
   ]
  },
  {
   "cell_type": "code",
   "execution_count": 217,
   "id": "c16a8f66",
   "metadata": {},
   "outputs": [
    {
     "data": {
      "text/plain": [
       "array([ 0. ,  2.5,  5. ,  7.5, 10. ])"
      ]
     },
     "execution_count": 217,
     "metadata": {},
     "output_type": "execute_result"
    }
   ],
   "source": [
    "#linerly spaced array\n",
    "h=np.linspace(0,10,num=5)\n",
    "h"
   ]
  },
  {
   "cell_type": "code",
   "execution_count": 218,
   "id": "d5a03df3",
   "metadata": {},
   "outputs": [
    {
     "data": {
      "text/plain": [
       "array([1, 1, 1, 1, 1], dtype=int8)"
      ]
     },
     "execution_count": 218,
     "metadata": {},
     "output_type": "execute_result"
    }
   ],
   "source": [
    "#specific data types in array\n",
    "i=np.ones(5, dtype=np.int8)\n",
    "i"
   ]
  },
  {
   "cell_type": "code",
   "execution_count": 219,
   "id": "6d35aec6",
   "metadata": {},
   "outputs": [
    {
     "data": {
      "text/plain": [
       "array([1., 1., 1.])"
      ]
     },
     "execution_count": 219,
     "metadata": {},
     "output_type": "execute_result"
    }
   ],
   "source": [
    "j=np.ones(3,dtype=np.float64)\n",
    "j"
   ]
  },
  {
   "cell_type": "markdown",
   "id": "1d534adc",
   "metadata": {},
   "source": [
    "### 1-D array"
   ]
  },
  {
   "cell_type": "code",
   "execution_count": 177,
   "id": "7772c4af",
   "metadata": {
    "scrolled": true
   },
   "outputs": [
    {
     "name": "stdout",
     "output_type": "stream",
     "text": [
      "[5 5 5 5 5 5 5]\n"
     ]
    }
   ],
   "source": [
    "import numpy as np\n",
    "a = np.array([5,5,5,5,5,5,5])\n",
    "print(a)"
   ]
  },
  {
   "cell_type": "code",
   "execution_count": 178,
   "id": "a5637fc9",
   "metadata": {},
   "outputs": [
    {
     "name": "stdout",
     "output_type": "stream",
     "text": [
      "[5 5 5]\n",
      "<class 'numpy.ndarray'>\n"
     ]
    }
   ],
   "source": [
    "#Example\n",
    "a = np.array([5,5,5,])\n",
    "print(a)\n",
    "\n",
    "print(type(a))"
   ]
  },
  {
   "cell_type": "code",
   "execution_count": 183,
   "id": "821fd80f",
   "metadata": {},
   "outputs": [
    {
     "data": {
      "text/plain": [
       "3"
      ]
     },
     "execution_count": 183,
     "metadata": {},
     "output_type": "execute_result"
    }
   ],
   "source": [
    "#length\n",
    "len(a)"
   ]
  },
  {
   "cell_type": "code",
   "execution_count": 184,
   "id": "eb99bf3f",
   "metadata": {},
   "outputs": [
    {
     "data": {
      "text/plain": [
       "5"
      ]
     },
     "execution_count": 184,
     "metadata": {},
     "output_type": "execute_result"
    }
   ],
   "source": [
    "#indexing\n",
    "a[0]"
   ]
  },
  {
   "cell_type": "code",
   "execution_count": 185,
   "id": "9ae373ff",
   "metadata": {},
   "outputs": [
    {
     "data": {
      "text/plain": [
       "array([5, 5, 5])"
      ]
     },
     "execution_count": 185,
     "metadata": {},
     "output_type": "execute_result"
    }
   ],
   "source": [
    "a[0:]"
   ]
  },
  {
   "cell_type": "markdown",
   "id": "eff3e23d",
   "metadata": {},
   "source": [
    "## 2-D array:\n",
    "### -The NumPy and ndarray class is used to represent both matrices an vectors.\n",
    "### - A matrix refers to an array with two dimensions"
   ]
  },
  {
   "cell_type": "markdown",
   "id": "658dfc58",
   "metadata": {},
   "source": [
    "## How to create a 2-D arrays"
   ]
  },
  {
   "cell_type": "code",
   "execution_count": 220,
   "id": "91f56c45",
   "metadata": {},
   "outputs": [
    {
     "data": {
      "text/plain": [
       "array([[0., 0., 0., 0.],\n",
       "       [0., 0., 0., 0.],\n",
       "       [0., 0., 0., 0.]])"
      ]
     },
     "execution_count": 220,
     "metadata": {},
     "output_type": "execute_result"
    }
   ],
   "source": [
    "np.zeros((3,4))"
   ]
  },
  {
   "cell_type": "code",
   "execution_count": 221,
   "id": "743cee4e",
   "metadata": {},
   "outputs": [
    {
     "data": {
      "text/plain": [
       "array([[1., 1., 1., 1., 1., 1.],\n",
       "       [1., 1., 1., 1., 1., 1.],\n",
       "       [1., 1., 1., 1., 1., 1.],\n",
       "       [1., 1., 1., 1., 1., 1.],\n",
       "       [1., 1., 1., 1., 1., 1.]])"
      ]
     },
     "execution_count": 221,
     "metadata": {},
     "output_type": "execute_result"
    }
   ],
   "source": [
    "np.ones((5,6))"
   ]
  },
  {
   "cell_type": "code",
   "execution_count": 222,
   "id": "183db256",
   "metadata": {},
   "outputs": [
    {
     "data": {
      "text/plain": [
       "array([[0., 0., 0., 0.],\n",
       "       [0., 0., 0., 0.],\n",
       "       [0., 0., 0., 0.]])"
      ]
     },
     "execution_count": 222,
     "metadata": {},
     "output_type": "execute_result"
    }
   ],
   "source": [
    "np.empty((3,4))"
   ]
  },
  {
   "cell_type": "code",
   "execution_count": 191,
   "id": "db61d08c",
   "metadata": {},
   "outputs": [
    {
     "data": {
      "text/plain": [
       "array([[5, 5, 5],\n",
       "       [5, 5, 5],\n",
       "       [5, 5, 5]])"
      ]
     },
     "execution_count": 191,
     "metadata": {},
     "output_type": "execute_result"
    }
   ],
   "source": [
    "#List of lists\n",
    "b=np.array([[5,5,5],[5,5,5],[5,5,5]])\n",
    "b"
   ]
  },
  {
   "cell_type": "code",
   "execution_count": 190,
   "id": "d585cd6e",
   "metadata": {},
   "outputs": [
    {
     "data": {
      "text/plain": [
       "numpy.ndarray"
      ]
     },
     "execution_count": 190,
     "metadata": {},
     "output_type": "execute_result"
    }
   ],
   "source": [
    "type(b)"
   ]
  },
  {
   "cell_type": "code",
   "execution_count": 192,
   "id": "7170f308",
   "metadata": {},
   "outputs": [
    {
     "data": {
      "text/plain": [
       "3"
      ]
     },
     "execution_count": 192,
     "metadata": {},
     "output_type": "execute_result"
    }
   ],
   "source": [
    "len(b)"
   ]
  },
  {
   "cell_type": "code",
   "execution_count": 194,
   "id": "a543c514",
   "metadata": {},
   "outputs": [
    {
     "data": {
      "text/plain": [
       "array([5, 5, 5])"
      ]
     },
     "execution_count": 194,
     "metadata": {},
     "output_type": "execute_result"
    }
   ],
   "source": [
    "b[1]"
   ]
  },
  {
   "cell_type": "code",
   "execution_count": 195,
   "id": "09c3a569",
   "metadata": {},
   "outputs": [
    {
     "data": {
      "text/plain": [
       "array([[5, 5, 5],\n",
       "       [5, 5, 5],\n",
       "       [5, 5, 5]])"
      ]
     },
     "execution_count": 195,
     "metadata": {},
     "output_type": "execute_result"
    }
   ],
   "source": [
    "b[0: ]"
   ]
  },
  {
   "cell_type": "markdown",
   "id": "5b3d1ad6",
   "metadata": {},
   "source": [
    "## 3-D or higher:\n",
    "### -For 3-D or higher dimensional array, the term tensor is also commonly used.\n",
    "### - TensorFlow is a free and open-source software for machine learning and artificial intelligence."
   ]
  },
  {
   "cell_type": "markdown",
   "id": "01aab004",
   "metadata": {},
   "source": [
    "### array attributes:\n",
    "#### - Dimensions are called axix"
   ]
  },
  {
   "cell_type": "code",
   "execution_count": 199,
   "id": "faf5cbcd",
   "metadata": {},
   "outputs": [
    {
     "data": {
      "text/plain": [
       "array([[5, 5, 5],\n",
       "       [5, 5, 5]])"
      ]
     },
     "execution_count": 199,
     "metadata": {},
     "output_type": "execute_result"
    }
   ],
   "source": [
    "# Two dimensional array\n",
    "c=np.array([[5,5,5],[5,5,5]])\n",
    "c\n",
    "\n",
    "#2-axis\n",
    "#First axis has length = 2\n",
    "#Second axis has length = 3"
   ]
  },
  {
   "cell_type": "markdown",
   "id": "3b351fe2",
   "metadata": {},
   "source": [
    "### How to create a 3-D array"
   ]
  },
  {
   "cell_type": "code",
   "execution_count": 228,
   "id": "4e0be98b",
   "metadata": {},
   "outputs": [
    {
     "data": {
      "text/plain": [
       "array([[[ 0,  1,  2,  3],\n",
       "        [ 4,  5,  6,  7],\n",
       "        [ 8,  9, 10, 11]],\n",
       "\n",
       "       [[12, 13, 14, 15],\n",
       "        [16, 17, 18, 19],\n",
       "        [20, 21, 22, 23]]])"
      ]
     },
     "execution_count": 228,
     "metadata": {},
     "output_type": "execute_result"
    }
   ],
   "source": [
    "#making and reshaping a 3D array\n",
    "c = np.arange(24).reshape(2,3,4)\n",
    "c"
   ]
  },
  {
   "cell_type": "code",
   "execution_count": null,
   "id": "04061d94",
   "metadata": {},
   "outputs": [],
   "source": []
  },
  {
   "cell_type": "code",
   "execution_count": null,
   "id": "34f3ce5b",
   "metadata": {},
   "outputs": [],
   "source": []
  }
 ],
 "metadata": {
  "kernelspec": {
   "display_name": "Python 3 (ipykernel)",
   "language": "python",
   "name": "python3"
  },
  "language_info": {
   "codemirror_mode": {
    "name": "ipython",
    "version": 3
   },
   "file_extension": ".py",
   "mimetype": "text/x-python",
   "name": "python",
   "nbconvert_exporter": "python",
   "pygments_lexer": "ipython3",
   "version": "3.9.7"
  }
 },
 "nbformat": 4,
 "nbformat_minor": 5
}
